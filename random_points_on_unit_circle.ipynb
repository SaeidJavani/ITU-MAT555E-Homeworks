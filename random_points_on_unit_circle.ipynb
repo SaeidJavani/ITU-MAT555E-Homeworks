{
 "cells": [
  {
   "cell_type": "code",
   "execution_count": 1,
   "id": "de06f50c",
   "metadata": {},
   "outputs": [],
   "source": [
    "def random_point_on_circel(N):\n",
    "\n",
    "    import numpy as np\n",
    "    random_points_array = np.zeros((N,2))\n",
    "    for i in range(N):\n",
    "        theta = np.random.uniform(0, 2*np.pi)\n",
    "        y = np.sin(theta)\n",
    "        x = np.cos(theta)\n",
    "        random_points_array[i] = [x,y]\n",
    "    import matplotlib.pyplot as plt\n",
    "    plt.scatter(random_points_array[:,0], random_points_array[:,1])\n",
    "    plt.show()"
   ]
  }
 ],
 "metadata": {
  "kernelspec": {
   "display_name": "Python 3 (ipykernel)",
   "language": "python",
   "name": "python3"
  },
  "language_info": {
   "codemirror_mode": {
    "name": "ipython",
    "version": 3
   },
   "file_extension": ".py",
   "mimetype": "text/x-python",
   "name": "python",
   "nbconvert_exporter": "python",
   "pygments_lexer": "ipython3",
   "version": "3.9.7"
  }
 },
 "nbformat": 4,
 "nbformat_minor": 5
}
