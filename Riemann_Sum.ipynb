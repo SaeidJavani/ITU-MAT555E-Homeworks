{
 "cells": [
  {
   "cell_type": "code",
   "execution_count": 1,
   "id": "bf4d8873",
   "metadata": {},
   "outputs": [],
   "source": [
    "\n",
    "def Riemann_sum(a,b,N,fn):\n",
    "    delta_x = (b-a)/N           #calculates the width of each rectangele\n",
    "    result = 0\n",
    "    middle_point = a - (delta_x/2)  #sets the start position so that by adding delta_x each time, the middle point of the width of rectangle is obtained\n",
    "    for i in range(N):\n",
    "        middle_point += delta_x    #calculates the middle point of rectangle for each step\n",
    "        height = fn(middle_point)\n",
    "        result += (height * delta_x)\n",
    "    return result\n"
   ]
  }
 ],
 "metadata": {
  "kernelspec": {
   "display_name": "Python 3 (ipykernel)",
   "language": "python",
   "name": "python3"
  },
  "language_info": {
   "codemirror_mode": {
    "name": "ipython",
    "version": 3
   },
   "file_extension": ".py",
   "mimetype": "text/x-python",
   "name": "python",
   "nbconvert_exporter": "python",
   "pygments_lexer": "ipython3",
   "version": "3.9.7"
  }
 },
 "nbformat": 4,
 "nbformat_minor": 5
}
